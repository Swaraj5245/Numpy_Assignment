{
 "cells": [
  {
   "cell_type": "markdown",
   "metadata": {},
   "source": [
    "**Consider the below code to answer further questions:**"
   ]
  },
  {
   "cell_type": "code",
   "execution_count": 2,
   "metadata": {},
   "outputs": [],
   "source": [
    "import numpy as np\n",
    "list_ = ['1','2','3','4','5']\n",
    "array_list = np.array(object = list_)"
   ]
  },
  {
   "cell_type": "markdown",
   "metadata": {},
   "source": [
    "### Q1. Is there any difference in the data type of variables list_ and array_list? If there is then write a code to print the data types of both the variables."
   ]
  },
  {
   "cell_type": "markdown",
   "metadata": {},
   "source": [
    "Yes, there is difference between the data type of both the variable i.e **list_** & **array_list**.  \n",
    "list_ containing the string integer while array_list containg **1D** array of a list items.  \n",
    "\n",
    "**code:** Writing a code for printing the Datatype's of both the variable"
   ]
  },
  {
   "cell_type": "code",
   "execution_count": 5,
   "metadata": {},
   "outputs": [
    {
     "name": "stdout",
     "output_type": "stream",
     "text": [
      "Type of a list_:<class 'list'>\n",
      "Type of a array_list:<class 'numpy.ndarray'>\n"
     ]
    }
   ],
   "source": [
    "print(f\"Type of a list_:{type(list_)}\\nType of a array_list:{type(array_list)}\")"
   ]
  },
  {
   "cell_type": "markdown",
   "metadata": {},
   "source": [
    "### Q2. Write a code to print the data type of each and every element of both the variables list_ and arra_list."
   ]
  },
  {
   "cell_type": "code",
   "execution_count": 16,
   "metadata": {},
   "outputs": [
    {
     "name": "stdout",
     "output_type": "stream",
     "text": [
      "For list_ variable\n",
      "type of 1 element in list_ is <class 'str'>\n",
      "type of 2 element in list_ is <class 'str'>\n",
      "type of 3 element in list_ is <class 'str'>\n",
      "type of 4 element in list_ is <class 'str'>\n",
      "type of 5 element in list_ is <class 'str'>\n",
      "For array_list variable\n",
      "type of 1 element in array_list is <class 'numpy.str_'>\n",
      "type of 2 element in array_list is <class 'numpy.str_'>\n",
      "type of 3 element in array_list is <class 'numpy.str_'>\n",
      "type of 4 element in array_list is <class 'numpy.str_'>\n",
      "type of 5 element in array_list is <class 'numpy.str_'>\n"
     ]
    }
   ],
   "source": [
    "print(\"For list_ variable\")\n",
    "for i in list_:\n",
    "    print(f\"type of {i} element in list_ is {type(i)}\")\n",
    "\n",
    "print(\"For array_list variable\")    \n",
    "for j in array_list:\n",
    "    print(f\"type of {j} element in array_list is {type(j)}\")"
   ]
  },
  {
   "cell_type": "markdown",
   "metadata": {},
   "source": [
    "### Q3. Considering the following changes in the variable,"
   ]
  },
  {
   "cell_type": "code",
   "execution_count": 36,
   "metadata": {},
   "outputs": [],
   "source": [
    "array_list: array_list = np.array(object = list_, dtype = int)   "
   ]
  },
  {
   "cell_type": "markdown",
   "metadata": {},
   "source": [
    "**Will there be any difference in the data type of the elements present in both the variables, list_ and**\n",
    "**arra_list? If so then print the data types of each and every element present in both the variables, list_**\n",
    "**and arra_list.**"
   ]
  },
  {
   "cell_type": "markdown",
   "metadata": {},
   "source": [
    "Yes, there is the difference between the datatype of both the variable **list_ & array_list**, because while creating the array_list, there is discribed the datatype **int** by passing the parameter.\n",
    "\n",
    "printing the Datatype of each and every element in the both variable."
   ]
  },
  {
   "cell_type": "code",
   "execution_count": 38,
   "metadata": {},
   "outputs": [
    {
     "name": "stdout",
     "output_type": "stream",
     "text": [
      "For list_ variable\n",
      "type of 1 element in list_ is <class 'str'>\n",
      "type of 2 element in list_ is <class 'str'>\n",
      "type of 3 element in list_ is <class 'str'>\n",
      "type of 4 element in list_ is <class 'str'>\n",
      "type of 5 element in list_ is <class 'str'>\n",
      "For array_list variable\n",
      "type of 1 element in array_list is <class 'numpy.int32'>\n",
      "type of 2 element in array_list is <class 'numpy.int32'>\n",
      "type of 3 element in array_list is <class 'numpy.int32'>\n",
      "type of 4 element in array_list is <class 'numpy.int32'>\n",
      "type of 5 element in array_list is <class 'numpy.int32'>\n"
     ]
    }
   ],
   "source": [
    "print(\"For list_ variable\")\n",
    "for i in list_:\n",
    "    print(f\"type of {i} element in list_ is {type(i)}\")\n",
    "\n",
    "print(\"For array_list variable\")    \n",
    "for j in array_list:\n",
    "    print(f\"type of {j} element in array_list is {type(j)}\")"
   ]
  },
  {
   "cell_type": "markdown",
   "metadata": {},
   "source": [
    "**Consider the below code to answer further questions:**"
   ]
  },
  {
   "cell_type": "code",
   "execution_count": 33,
   "metadata": {},
   "outputs": [],
   "source": [
    "import numpy as np\n",
    "num_list = [ [ 1 , 2 , 3 ] , [ 4 , 5 , 6 ] ]\n",
    "num_array = np.array(object = num_list)"
   ]
  },
  {
   "cell_type": "markdown",
   "metadata": {},
   "source": [
    "### Q4. Write a code to find the following characteristics of variable, num_array:\n",
    "**(i) shape**  \n",
    "**(ii) size**"
   ]
  },
  {
   "cell_type": "markdown",
   "metadata": {},
   "source": [
    "We can find the **shape** of a **num_array** variable by using the numpy fucntion **.shape**.  \n",
    "This function is used to find the shape of a any array matrix.  "
   ]
  },
  {
   "cell_type": "code",
   "execution_count": 34,
   "metadata": {},
   "outputs": [
    {
     "data": {
      "text/plain": [
       "(2, 3)"
      ]
     },
     "execution_count": 34,
     "metadata": {},
     "output_type": "execute_result"
    }
   ],
   "source": [
    "num_array.shape"
   ]
  },
  {
   "cell_type": "markdown",
   "metadata": {},
   "source": [
    "we can find the **size** of a variable **num_array** by using the numpy function **.size**.  \n",
    "This function is used to find the size of a any array matrix.  "
   ]
  },
  {
   "cell_type": "code",
   "execution_count": 35,
   "metadata": {},
   "outputs": [
    {
     "data": {
      "text/plain": [
       "6"
      ]
     },
     "execution_count": 35,
     "metadata": {},
     "output_type": "execute_result"
    }
   ],
   "source": [
    "num_array.size"
   ]
  },
  {
   "cell_type": "markdown",
   "metadata": {},
   "source": [
    "### Q5. Write a code to create numpy array of 3*3 matrix containing zeros only, using a numpy array creation function."
   ]
  },
  {
   "cell_type": "markdown",
   "metadata": {},
   "source": [
    "creating a numpy array of a **3x3** matrix containing zero only, using a numpy fuction **numpy.zeros()**.  \n",
    "this fuction is used to create a array matrix of any shape which containg **0** only.  "
   ]
  },
  {
   "cell_type": "code",
   "execution_count": 30,
   "metadata": {},
   "outputs": [
    {
     "name": "stdout",
     "output_type": "stream",
     "text": [
      "[[0. 0. 0.]\n",
      " [0. 0. 0.]\n",
      " [0. 0. 0.]]\n"
     ]
    }
   ],
   "source": [
    "zeros_matrix = np.zeros((3, 3))\n",
    "print(zeros_matrix)"
   ]
  },
  {
   "cell_type": "markdown",
   "metadata": {},
   "source": [
    "### Q6. Create an identity matrix of shape (5,5) using numpy functions?"
   ]
  },
  {
   "cell_type": "markdown",
   "metadata": {},
   "source": [
    "Creating a **identity matrix** of shape (5,5) using numpy function **numpy.eye**.  \n",
    "**numpy.eye** funcion in numpy used to create a identity matrix, we can create a identity matrix of any shape , just passing the shape as a parameter."
   ]
  },
  {
   "cell_type": "code",
   "execution_count": 17,
   "metadata": {},
   "outputs": [
    {
     "data": {
      "text/plain": [
       "array([[1., 0., 0., 0., 0.],\n",
       "       [0., 1., 0., 0., 0.],\n",
       "       [0., 0., 1., 0., 0.],\n",
       "       [0., 0., 0., 1., 0.],\n",
       "       [0., 0., 0., 0., 1.]])"
      ]
     },
     "execution_count": 17,
     "metadata": {},
     "output_type": "execute_result"
    }
   ],
   "source": [
    "np.eye(5,5)"
   ]
  }
 ],
 "metadata": {
  "kernelspec": {
   "display_name": "Python 3",
   "language": "python",
   "name": "python3"
  },
  "language_info": {
   "codemirror_mode": {
    "name": "ipython",
    "version": 3
   },
   "file_extension": ".py",
   "mimetype": "text/x-python",
   "name": "python",
   "nbconvert_exporter": "python",
   "pygments_lexer": "ipython3",
   "version": "3.11.7"
  }
 },
 "nbformat": 4,
 "nbformat_minor": 2
}
